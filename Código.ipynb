{
 "cells": [
  {
   "cell_type": "markdown",
   "id": "f3bbd388",
   "metadata": {},
   "source": [
    "Importamos librerias"
   ]
  },
  {
   "cell_type": "code",
   "execution_count": 1,
   "id": "8821a772",
   "metadata": {},
   "outputs": [],
   "source": [
    "import pandas as pd\n",
    "import matplotlib.pyplot as plt\n",
    "import seaborn as sns\n",
    "import numpy as np\n",
    "from scipy.stats import ttest_ind, chi2_contingency\n",
    "from statsmodels.stats.proportion import proportions_ztest\n",
    "from scipy.stats import spearmanr\n"
   ]
  },
  {
   "cell_type": "markdown",
   "id": "6dc911d4",
   "metadata": {},
   "source": [
    "Cargamos CSVs"
   ]
  },
  {
   "cell_type": "code",
   "execution_count": 2,
   "id": "e987282b",
   "metadata": {},
   "outputs": [],
   "source": [
    "demo = pd.read_csv('df_final_demo.txt')\n",
    "demo.to_csv('df_final_demo.txt', index=False)"
   ]
  },
  {
   "cell_type": "code",
   "execution_count": 3,
   "id": "fa85c3a6",
   "metadata": {},
   "outputs": [],
   "source": [
    "experiment = pd.read_csv('df_final_experiment_clients.txt')\n",
    "experiment.to_csv('df_final_experiment_clients.txt', index=False)"
   ]
  },
  {
   "cell_type": "code",
   "execution_count": 4,
   "id": "27fe6e21",
   "metadata": {},
   "outputs": [],
   "source": [
    "web1 = pd.read_csv('df_final_web_data_pt_1.txt')\n",
    "web1.to_csv('df_final_web_data_pt_1.txt', index=False)"
   ]
  },
  {
   "cell_type": "code",
   "execution_count": 5,
   "id": "c74af4a6",
   "metadata": {},
   "outputs": [],
   "source": [
    "web2 = pd.read_csv('df_final_web_data_pt_2.txt')\n",
    "web2.to_csv('df_final_web_data_pt_2.txt', index=False)"
   ]
  },
  {
   "cell_type": "markdown",
   "id": "c939f6c9",
   "metadata": {},
   "source": [
    "Juntamos las dos webs con concat"
   ]
  },
  {
   "cell_type": "code",
   "execution_count": 66,
   "id": "1b4c2e85",
   "metadata": {},
   "outputs": [],
   "source": [
    "web = pd.concat([web1,web2],axis=0)\n",
    "web.to_csv(\"webb.csv\")"
   ]
  },
  {
   "cell_type": "markdown",
   "id": "b84966bd",
   "metadata": {},
   "source": [
    "Eliminamos duplicados de demo y reseteamos el index\n",
    "Filtamos por max de 42 años en la empresa ya que los datos son de 2017 y Vanguard es de 1975"
   ]
  },
  {
   "cell_type": "code",
   "execution_count": 7,
   "id": "65459886",
   "metadata": {},
   "outputs": [],
   "source": [
    "demo.dropna(inplace=True)\n",
    "demo_42 = demo['clnt_tenure_yr'].quantile(0.999)\n",
    "demo = demo[demo['clnt_tenure_yr'] <= demo_42]\n",
    "demo.reset_index(drop=True, inplace=True)"
   ]
  },
  {
   "cell_type": "markdown",
   "id": "daf6f731",
   "metadata": {},
   "source": [
    "Eliminamos duplicados de web y reseteamos el index"
   ]
  },
  {
   "cell_type": "code",
   "execution_count": 8,
   "id": "684aab22",
   "metadata": {},
   "outputs": [],
   "source": [
    "web.drop_duplicates(inplace=True)\n",
    "web.reset_index(drop=True, inplace=True)"
   ]
  },
  {
   "cell_type": "markdown",
   "id": "410954c7",
   "metadata": {},
   "source": [
    "Eliminamos duplicados de experiment y reseteamos el index"
   ]
  },
  {
   "cell_type": "code",
   "execution_count": 9,
   "id": "15422aff",
   "metadata": {},
   "outputs": [],
   "source": [
    "experiment.dropna(inplace=True)\n",
    "experiment.reset_index(drop=True, inplace=True)"
   ]
  },
  {
   "cell_type": "markdown",
   "id": "8fe462d1",
   "metadata": {},
   "source": [
    "Eliminamos columna visitor_id ya que no nos sirve"
   ]
  },
  {
   "cell_type": "code",
   "execution_count": 10,
   "id": "fe942358",
   "metadata": {},
   "outputs": [],
   "source": [
    "web.drop(\"visitor_id\", axis=1, inplace=True)"
   ]
  },
  {
   "cell_type": "markdown",
   "id": "b484f086",
   "metadata": {},
   "source": [
    "Cambiamos de float a int las columnas de demo"
   ]
  },
  {
   "cell_type": "code",
   "execution_count": 11,
   "id": "9c3d488a",
   "metadata": {},
   "outputs": [],
   "source": [
    "demo['clnt_age'] = demo['clnt_age'].astype(int)\n",
    "demo['clnt_tenure_yr'] = demo['clnt_tenure_yr'].astype(int)\n",
    "demo['clnt_tenure_mnth'] = demo['clnt_tenure_mnth'].astype(int)\n",
    "demo['num_accts'] = demo['num_accts'].astype(int)\n",
    "demo['calls_6_mnth'] = demo['calls_6_mnth'].astype(int)\n",
    "demo['logons_6_mnth'] = demo['logons_6_mnth'].astype(int)"
   ]
  },
  {
   "cell_type": "markdown",
   "id": "186b4387",
   "metadata": {},
   "source": [
    "Juntamos demo y web con merge"
   ]
  },
  {
   "cell_type": "code",
   "execution_count": 12,
   "id": "598be098",
   "metadata": {},
   "outputs": [
    {
     "data": {
      "text/html": [
       "<div>\n",
       "<style scoped>\n",
       "    .dataframe tbody tr th:only-of-type {\n",
       "        vertical-align: middle;\n",
       "    }\n",
       "\n",
       "    .dataframe tbody tr th {\n",
       "        vertical-align: top;\n",
       "    }\n",
       "\n",
       "    .dataframe thead th {\n",
       "        text-align: right;\n",
       "    }\n",
       "</style>\n",
       "<table border=\"1\" class=\"dataframe\">\n",
       "  <thead>\n",
       "    <tr style=\"text-align: right;\">\n",
       "      <th></th>\n",
       "      <th>client_id</th>\n",
       "      <th>visit_id</th>\n",
       "      <th>process_step</th>\n",
       "      <th>date_time</th>\n",
       "      <th>clnt_tenure_yr</th>\n",
       "      <th>clnt_tenure_mnth</th>\n",
       "      <th>clnt_age</th>\n",
       "      <th>gendr</th>\n",
       "      <th>num_accts</th>\n",
       "      <th>bal</th>\n",
       "      <th>calls_6_mnth</th>\n",
       "      <th>logons_6_mnth</th>\n",
       "    </tr>\n",
       "  </thead>\n",
       "  <tbody>\n",
       "    <tr>\n",
       "      <th>0</th>\n",
       "      <td>9988021</td>\n",
       "      <td>781255054_21935453173_531117</td>\n",
       "      <td>step_3</td>\n",
       "      <td>2017-04-17 15:27:07</td>\n",
       "      <td>5</td>\n",
       "      <td>64</td>\n",
       "      <td>79</td>\n",
       "      <td>U</td>\n",
       "      <td>2</td>\n",
       "      <td>189023.86</td>\n",
       "      <td>1</td>\n",
       "      <td>4</td>\n",
       "    </tr>\n",
       "    <tr>\n",
       "      <th>1</th>\n",
       "      <td>9988021</td>\n",
       "      <td>781255054_21935453173_531117</td>\n",
       "      <td>step_2</td>\n",
       "      <td>2017-04-17 15:26:51</td>\n",
       "      <td>5</td>\n",
       "      <td>64</td>\n",
       "      <td>79</td>\n",
       "      <td>U</td>\n",
       "      <td>2</td>\n",
       "      <td>189023.86</td>\n",
       "      <td>1</td>\n",
       "      <td>4</td>\n",
       "    </tr>\n",
       "    <tr>\n",
       "      <th>2</th>\n",
       "      <td>9988021</td>\n",
       "      <td>781255054_21935453173_531117</td>\n",
       "      <td>step_3</td>\n",
       "      <td>2017-04-17 15:19:22</td>\n",
       "      <td>5</td>\n",
       "      <td>64</td>\n",
       "      <td>79</td>\n",
       "      <td>U</td>\n",
       "      <td>2</td>\n",
       "      <td>189023.86</td>\n",
       "      <td>1</td>\n",
       "      <td>4</td>\n",
       "    </tr>\n",
       "    <tr>\n",
       "      <th>3</th>\n",
       "      <td>9988021</td>\n",
       "      <td>781255054_21935453173_531117</td>\n",
       "      <td>step_2</td>\n",
       "      <td>2017-04-17 15:19:13</td>\n",
       "      <td>5</td>\n",
       "      <td>64</td>\n",
       "      <td>79</td>\n",
       "      <td>U</td>\n",
       "      <td>2</td>\n",
       "      <td>189023.86</td>\n",
       "      <td>1</td>\n",
       "      <td>4</td>\n",
       "    </tr>\n",
       "    <tr>\n",
       "      <th>4</th>\n",
       "      <td>9988021</td>\n",
       "      <td>781255054_21935453173_531117</td>\n",
       "      <td>step_3</td>\n",
       "      <td>2017-04-17 15:18:04</td>\n",
       "      <td>5</td>\n",
       "      <td>64</td>\n",
       "      <td>79</td>\n",
       "      <td>U</td>\n",
       "      <td>2</td>\n",
       "      <td>189023.86</td>\n",
       "      <td>1</td>\n",
       "      <td>4</td>\n",
       "    </tr>\n",
       "    <tr>\n",
       "      <th>...</th>\n",
       "      <td>...</td>\n",
       "      <td>...</td>\n",
       "      <td>...</td>\n",
       "      <td>...</td>\n",
       "      <td>...</td>\n",
       "      <td>...</td>\n",
       "      <td>...</td>\n",
       "      <td>...</td>\n",
       "      <td>...</td>\n",
       "      <td>...</td>\n",
       "      <td>...</td>\n",
       "      <td>...</td>\n",
       "    </tr>\n",
       "    <tr>\n",
       "      <th>443348</th>\n",
       "      <td>9895983</td>\n",
       "      <td>498981662_93503779869_272484</td>\n",
       "      <td>step_3</td>\n",
       "      <td>2017-06-15 19:52:09</td>\n",
       "      <td>10</td>\n",
       "      <td>121</td>\n",
       "      <td>49</td>\n",
       "      <td>M</td>\n",
       "      <td>2</td>\n",
       "      <td>97748.22</td>\n",
       "      <td>2</td>\n",
       "      <td>2</td>\n",
       "    </tr>\n",
       "    <tr>\n",
       "      <th>443349</th>\n",
       "      <td>9895983</td>\n",
       "      <td>498981662_93503779869_272484</td>\n",
       "      <td>step_2</td>\n",
       "      <td>2017-06-15 19:50:37</td>\n",
       "      <td>10</td>\n",
       "      <td>121</td>\n",
       "      <td>49</td>\n",
       "      <td>M</td>\n",
       "      <td>2</td>\n",
       "      <td>97748.22</td>\n",
       "      <td>2</td>\n",
       "      <td>2</td>\n",
       "    </tr>\n",
       "    <tr>\n",
       "      <th>443350</th>\n",
       "      <td>9895983</td>\n",
       "      <td>498981662_93503779869_272484</td>\n",
       "      <td>step_1</td>\n",
       "      <td>2017-06-15 19:50:05</td>\n",
       "      <td>10</td>\n",
       "      <td>121</td>\n",
       "      <td>49</td>\n",
       "      <td>M</td>\n",
       "      <td>2</td>\n",
       "      <td>97748.22</td>\n",
       "      <td>2</td>\n",
       "      <td>2</td>\n",
       "    </tr>\n",
       "    <tr>\n",
       "      <th>443351</th>\n",
       "      <td>9895983</td>\n",
       "      <td>498981662_93503779869_272484</td>\n",
       "      <td>start</td>\n",
       "      <td>2017-06-15 19:50:00</td>\n",
       "      <td>10</td>\n",
       "      <td>121</td>\n",
       "      <td>49</td>\n",
       "      <td>M</td>\n",
       "      <td>2</td>\n",
       "      <td>97748.22</td>\n",
       "      <td>2</td>\n",
       "      <td>2</td>\n",
       "    </tr>\n",
       "    <tr>\n",
       "      <th>443352</th>\n",
       "      <td>9895983</td>\n",
       "      <td>498981662_93503779869_272484</td>\n",
       "      <td>start</td>\n",
       "      <td>2017-06-15 19:44:05</td>\n",
       "      <td>10</td>\n",
       "      <td>121</td>\n",
       "      <td>49</td>\n",
       "      <td>M</td>\n",
       "      <td>2</td>\n",
       "      <td>97748.22</td>\n",
       "      <td>2</td>\n",
       "      <td>2</td>\n",
       "    </tr>\n",
       "  </tbody>\n",
       "</table>\n",
       "<p>443353 rows × 12 columns</p>\n",
       "</div>"
      ],
      "text/plain": [
       "        client_id                      visit_id process_step  \\\n",
       "0         9988021  781255054_21935453173_531117       step_3   \n",
       "1         9988021  781255054_21935453173_531117       step_2   \n",
       "2         9988021  781255054_21935453173_531117       step_3   \n",
       "3         9988021  781255054_21935453173_531117       step_2   \n",
       "4         9988021  781255054_21935453173_531117       step_3   \n",
       "...           ...                           ...          ...   \n",
       "443348    9895983  498981662_93503779869_272484       step_3   \n",
       "443349    9895983  498981662_93503779869_272484       step_2   \n",
       "443350    9895983  498981662_93503779869_272484       step_1   \n",
       "443351    9895983  498981662_93503779869_272484        start   \n",
       "443352    9895983  498981662_93503779869_272484        start   \n",
       "\n",
       "                  date_time  clnt_tenure_yr  clnt_tenure_mnth  clnt_age gendr  \\\n",
       "0       2017-04-17 15:27:07               5                64        79     U   \n",
       "1       2017-04-17 15:26:51               5                64        79     U   \n",
       "2       2017-04-17 15:19:22               5                64        79     U   \n",
       "3       2017-04-17 15:19:13               5                64        79     U   \n",
       "4       2017-04-17 15:18:04               5                64        79     U   \n",
       "...                     ...             ...               ...       ...   ...   \n",
       "443348  2017-06-15 19:52:09              10               121        49     M   \n",
       "443349  2017-06-15 19:50:37              10               121        49     M   \n",
       "443350  2017-06-15 19:50:05              10               121        49     M   \n",
       "443351  2017-06-15 19:50:00              10               121        49     M   \n",
       "443352  2017-06-15 19:44:05              10               121        49     M   \n",
       "\n",
       "        num_accts        bal  calls_6_mnth  logons_6_mnth  \n",
       "0               2  189023.86             1              4  \n",
       "1               2  189023.86             1              4  \n",
       "2               2  189023.86             1              4  \n",
       "3               2  189023.86             1              4  \n",
       "4               2  189023.86             1              4  \n",
       "...           ...        ...           ...            ...  \n",
       "443348          2   97748.22             2              2  \n",
       "443349          2   97748.22             2              2  \n",
       "443350          2   97748.22             2              2  \n",
       "443351          2   97748.22             2              2  \n",
       "443352          2   97748.22             2              2  \n",
       "\n",
       "[443353 rows x 12 columns]"
      ]
     },
     "execution_count": 12,
     "metadata": {},
     "output_type": "execute_result"
    }
   ],
   "source": [
    "mergeado = pd.merge(web, demo, on ='client_id', how='inner')\n",
    "mergeado"
   ]
  },
  {
   "cell_type": "markdown",
   "id": "0c63e783",
   "metadata": {},
   "source": [
    "Juntamos web y experiment con merge"
   ]
  },
  {
   "cell_type": "code",
   "execution_count": 13,
   "id": "68689ada",
   "metadata": {},
   "outputs": [
    {
     "data": {
      "text/html": [
       "<div>\n",
       "<style scoped>\n",
       "    .dataframe tbody tr th:only-of-type {\n",
       "        vertical-align: middle;\n",
       "    }\n",
       "\n",
       "    .dataframe tbody tr th {\n",
       "        vertical-align: top;\n",
       "    }\n",
       "\n",
       "    .dataframe thead th {\n",
       "        text-align: right;\n",
       "    }\n",
       "</style>\n",
       "<table border=\"1\" class=\"dataframe\">\n",
       "  <thead>\n",
       "    <tr style=\"text-align: right;\">\n",
       "      <th></th>\n",
       "      <th>client_id</th>\n",
       "      <th>visit_id</th>\n",
       "      <th>process_step</th>\n",
       "      <th>date_time</th>\n",
       "      <th>Variation</th>\n",
       "    </tr>\n",
       "  </thead>\n",
       "  <tbody>\n",
       "    <tr>\n",
       "      <th>0</th>\n",
       "      <td>9988021</td>\n",
       "      <td>781255054_21935453173_531117</td>\n",
       "      <td>step_3</td>\n",
       "      <td>2017-04-17 15:27:07</td>\n",
       "      <td>Test</td>\n",
       "    </tr>\n",
       "    <tr>\n",
       "      <th>1</th>\n",
       "      <td>9988021</td>\n",
       "      <td>781255054_21935453173_531117</td>\n",
       "      <td>step_2</td>\n",
       "      <td>2017-04-17 15:26:51</td>\n",
       "      <td>Test</td>\n",
       "    </tr>\n",
       "    <tr>\n",
       "      <th>2</th>\n",
       "      <td>9988021</td>\n",
       "      <td>781255054_21935453173_531117</td>\n",
       "      <td>step_3</td>\n",
       "      <td>2017-04-17 15:19:22</td>\n",
       "      <td>Test</td>\n",
       "    </tr>\n",
       "    <tr>\n",
       "      <th>3</th>\n",
       "      <td>9988021</td>\n",
       "      <td>781255054_21935453173_531117</td>\n",
       "      <td>step_2</td>\n",
       "      <td>2017-04-17 15:19:13</td>\n",
       "      <td>Test</td>\n",
       "    </tr>\n",
       "    <tr>\n",
       "      <th>4</th>\n",
       "      <td>9988021</td>\n",
       "      <td>781255054_21935453173_531117</td>\n",
       "      <td>step_3</td>\n",
       "      <td>2017-04-17 15:18:04</td>\n",
       "      <td>Test</td>\n",
       "    </tr>\n",
       "    <tr>\n",
       "      <th>...</th>\n",
       "      <td>...</td>\n",
       "      <td>...</td>\n",
       "      <td>...</td>\n",
       "      <td>...</td>\n",
       "      <td>...</td>\n",
       "    </tr>\n",
       "    <tr>\n",
       "      <th>317230</th>\n",
       "      <td>1574008</td>\n",
       "      <td>528720790_71583064618_169151</td>\n",
       "      <td>start</td>\n",
       "      <td>2017-05-06 23:43:27</td>\n",
       "      <td>Test</td>\n",
       "    </tr>\n",
       "    <tr>\n",
       "      <th>317231</th>\n",
       "      <td>2908510</td>\n",
       "      <td>562606085_36368381773_92090</td>\n",
       "      <td>start</td>\n",
       "      <td>2017-05-10 22:57:17</td>\n",
       "      <td>Control</td>\n",
       "    </tr>\n",
       "    <tr>\n",
       "      <th>317232</th>\n",
       "      <td>2908510</td>\n",
       "      <td>562606085_36368381773_92090</td>\n",
       "      <td>step_2</td>\n",
       "      <td>2017-05-10 22:56:31</td>\n",
       "      <td>Control</td>\n",
       "    </tr>\n",
       "    <tr>\n",
       "      <th>317233</th>\n",
       "      <td>2908510</td>\n",
       "      <td>562606085_36368381773_92090</td>\n",
       "      <td>step_1</td>\n",
       "      <td>2017-05-10 22:56:23</td>\n",
       "      <td>Control</td>\n",
       "    </tr>\n",
       "    <tr>\n",
       "      <th>317234</th>\n",
       "      <td>2908510</td>\n",
       "      <td>562606085_36368381773_92090</td>\n",
       "      <td>start</td>\n",
       "      <td>2017-05-10 22:56:20</td>\n",
       "      <td>Control</td>\n",
       "    </tr>\n",
       "  </tbody>\n",
       "</table>\n",
       "<p>317235 rows × 5 columns</p>\n",
       "</div>"
      ],
      "text/plain": [
       "        client_id                      visit_id process_step  \\\n",
       "0         9988021  781255054_21935453173_531117       step_3   \n",
       "1         9988021  781255054_21935453173_531117       step_2   \n",
       "2         9988021  781255054_21935453173_531117       step_3   \n",
       "3         9988021  781255054_21935453173_531117       step_2   \n",
       "4         9988021  781255054_21935453173_531117       step_3   \n",
       "...           ...                           ...          ...   \n",
       "317230    1574008  528720790_71583064618_169151        start   \n",
       "317231    2908510   562606085_36368381773_92090        start   \n",
       "317232    2908510   562606085_36368381773_92090       step_2   \n",
       "317233    2908510   562606085_36368381773_92090       step_1   \n",
       "317234    2908510   562606085_36368381773_92090        start   \n",
       "\n",
       "                  date_time Variation  \n",
       "0       2017-04-17 15:27:07      Test  \n",
       "1       2017-04-17 15:26:51      Test  \n",
       "2       2017-04-17 15:19:22      Test  \n",
       "3       2017-04-17 15:19:13      Test  \n",
       "4       2017-04-17 15:18:04      Test  \n",
       "...                     ...       ...  \n",
       "317230  2017-05-06 23:43:27      Test  \n",
       "317231  2017-05-10 22:57:17   Control  \n",
       "317232  2017-05-10 22:56:31   Control  \n",
       "317233  2017-05-10 22:56:23   Control  \n",
       "317234  2017-05-10 22:56:20   Control  \n",
       "\n",
       "[317235 rows x 5 columns]"
      ]
     },
     "execution_count": 13,
     "metadata": {},
     "output_type": "execute_result"
    }
   ],
   "source": [
    "df_merged = web.merge(experiment, on=\"client_id\", how=\"inner\")\n",
    "df_merged"
   ]
  },
  {
   "cell_type": "code",
   "execution_count": 14,
   "id": "6b37d820",
   "metadata": {},
   "outputs": [
    {
     "data": {
      "text/html": [
       "<div>\n",
       "<style scoped>\n",
       "    .dataframe tbody tr th:only-of-type {\n",
       "        vertical-align: middle;\n",
       "    }\n",
       "\n",
       "    .dataframe tbody tr th {\n",
       "        vertical-align: top;\n",
       "    }\n",
       "\n",
       "    .dataframe thead th {\n",
       "        text-align: right;\n",
       "    }\n",
       "</style>\n",
       "<table border=\"1\" class=\"dataframe\">\n",
       "  <thead>\n",
       "    <tr style=\"text-align: right;\">\n",
       "      <th></th>\n",
       "      <th>client_id</th>\n",
       "      <th>visit_id</th>\n",
       "      <th>process_step</th>\n",
       "      <th>date_time</th>\n",
       "      <th>clnt_tenure_yr</th>\n",
       "      <th>clnt_tenure_mnth</th>\n",
       "      <th>clnt_age</th>\n",
       "      <th>gendr</th>\n",
       "      <th>num_accts</th>\n",
       "      <th>bal</th>\n",
       "      <th>calls_6_mnth</th>\n",
       "      <th>logons_6_mnth</th>\n",
       "      <th>Variation</th>\n",
       "    </tr>\n",
       "  </thead>\n",
       "  <tbody>\n",
       "    <tr>\n",
       "      <th>0</th>\n",
       "      <td>9988021</td>\n",
       "      <td>781255054_21935453173_531117</td>\n",
       "      <td>step_3</td>\n",
       "      <td>2017-04-17 15:27:07</td>\n",
       "      <td>5</td>\n",
       "      <td>64</td>\n",
       "      <td>79</td>\n",
       "      <td>U</td>\n",
       "      <td>2</td>\n",
       "      <td>189023.86</td>\n",
       "      <td>1</td>\n",
       "      <td>4</td>\n",
       "      <td>Test</td>\n",
       "    </tr>\n",
       "    <tr>\n",
       "      <th>1</th>\n",
       "      <td>9988021</td>\n",
       "      <td>781255054_21935453173_531117</td>\n",
       "      <td>step_2</td>\n",
       "      <td>2017-04-17 15:26:51</td>\n",
       "      <td>5</td>\n",
       "      <td>64</td>\n",
       "      <td>79</td>\n",
       "      <td>U</td>\n",
       "      <td>2</td>\n",
       "      <td>189023.86</td>\n",
       "      <td>1</td>\n",
       "      <td>4</td>\n",
       "      <td>Test</td>\n",
       "    </tr>\n",
       "    <tr>\n",
       "      <th>2</th>\n",
       "      <td>9988021</td>\n",
       "      <td>781255054_21935453173_531117</td>\n",
       "      <td>step_3</td>\n",
       "      <td>2017-04-17 15:19:22</td>\n",
       "      <td>5</td>\n",
       "      <td>64</td>\n",
       "      <td>79</td>\n",
       "      <td>U</td>\n",
       "      <td>2</td>\n",
       "      <td>189023.86</td>\n",
       "      <td>1</td>\n",
       "      <td>4</td>\n",
       "      <td>Test</td>\n",
       "    </tr>\n",
       "    <tr>\n",
       "      <th>3</th>\n",
       "      <td>9988021</td>\n",
       "      <td>781255054_21935453173_531117</td>\n",
       "      <td>step_2</td>\n",
       "      <td>2017-04-17 15:19:13</td>\n",
       "      <td>5</td>\n",
       "      <td>64</td>\n",
       "      <td>79</td>\n",
       "      <td>U</td>\n",
       "      <td>2</td>\n",
       "      <td>189023.86</td>\n",
       "      <td>1</td>\n",
       "      <td>4</td>\n",
       "      <td>Test</td>\n",
       "    </tr>\n",
       "    <tr>\n",
       "      <th>4</th>\n",
       "      <td>9988021</td>\n",
       "      <td>781255054_21935453173_531117</td>\n",
       "      <td>step_3</td>\n",
       "      <td>2017-04-17 15:18:04</td>\n",
       "      <td>5</td>\n",
       "      <td>64</td>\n",
       "      <td>79</td>\n",
       "      <td>U</td>\n",
       "      <td>2</td>\n",
       "      <td>189023.86</td>\n",
       "      <td>1</td>\n",
       "      <td>4</td>\n",
       "      <td>Test</td>\n",
       "    </tr>\n",
       "    <tr>\n",
       "      <th>...</th>\n",
       "      <td>...</td>\n",
       "      <td>...</td>\n",
       "      <td>...</td>\n",
       "      <td>...</td>\n",
       "      <td>...</td>\n",
       "      <td>...</td>\n",
       "      <td>...</td>\n",
       "      <td>...</td>\n",
       "      <td>...</td>\n",
       "      <td>...</td>\n",
       "      <td>...</td>\n",
       "      <td>...</td>\n",
       "      <td>...</td>\n",
       "    </tr>\n",
       "    <tr>\n",
       "      <th>316848</th>\n",
       "      <td>1574008</td>\n",
       "      <td>528720790_71583064618_169151</td>\n",
       "      <td>start</td>\n",
       "      <td>2017-05-06 23:43:27</td>\n",
       "      <td>10</td>\n",
       "      <td>121</td>\n",
       "      <td>55</td>\n",
       "      <td>U</td>\n",
       "      <td>2</td>\n",
       "      <td>153238.83</td>\n",
       "      <td>3</td>\n",
       "      <td>6</td>\n",
       "      <td>Test</td>\n",
       "    </tr>\n",
       "    <tr>\n",
       "      <th>316849</th>\n",
       "      <td>2908510</td>\n",
       "      <td>562606085_36368381773_92090</td>\n",
       "      <td>start</td>\n",
       "      <td>2017-05-10 22:57:17</td>\n",
       "      <td>21</td>\n",
       "      <td>252</td>\n",
       "      <td>34</td>\n",
       "      <td>M</td>\n",
       "      <td>3</td>\n",
       "      <td>141808.05</td>\n",
       "      <td>6</td>\n",
       "      <td>9</td>\n",
       "      <td>Control</td>\n",
       "    </tr>\n",
       "    <tr>\n",
       "      <th>316850</th>\n",
       "      <td>2908510</td>\n",
       "      <td>562606085_36368381773_92090</td>\n",
       "      <td>step_2</td>\n",
       "      <td>2017-05-10 22:56:31</td>\n",
       "      <td>21</td>\n",
       "      <td>252</td>\n",
       "      <td>34</td>\n",
       "      <td>M</td>\n",
       "      <td>3</td>\n",
       "      <td>141808.05</td>\n",
       "      <td>6</td>\n",
       "      <td>9</td>\n",
       "      <td>Control</td>\n",
       "    </tr>\n",
       "    <tr>\n",
       "      <th>316851</th>\n",
       "      <td>2908510</td>\n",
       "      <td>562606085_36368381773_92090</td>\n",
       "      <td>step_1</td>\n",
       "      <td>2017-05-10 22:56:23</td>\n",
       "      <td>21</td>\n",
       "      <td>252</td>\n",
       "      <td>34</td>\n",
       "      <td>M</td>\n",
       "      <td>3</td>\n",
       "      <td>141808.05</td>\n",
       "      <td>6</td>\n",
       "      <td>9</td>\n",
       "      <td>Control</td>\n",
       "    </tr>\n",
       "    <tr>\n",
       "      <th>316852</th>\n",
       "      <td>2908510</td>\n",
       "      <td>562606085_36368381773_92090</td>\n",
       "      <td>start</td>\n",
       "      <td>2017-05-10 22:56:20</td>\n",
       "      <td>21</td>\n",
       "      <td>252</td>\n",
       "      <td>34</td>\n",
       "      <td>M</td>\n",
       "      <td>3</td>\n",
       "      <td>141808.05</td>\n",
       "      <td>6</td>\n",
       "      <td>9</td>\n",
       "      <td>Control</td>\n",
       "    </tr>\n",
       "  </tbody>\n",
       "</table>\n",
       "<p>316853 rows × 13 columns</p>\n",
       "</div>"
      ],
      "text/plain": [
       "        client_id                      visit_id process_step  \\\n",
       "0         9988021  781255054_21935453173_531117       step_3   \n",
       "1         9988021  781255054_21935453173_531117       step_2   \n",
       "2         9988021  781255054_21935453173_531117       step_3   \n",
       "3         9988021  781255054_21935453173_531117       step_2   \n",
       "4         9988021  781255054_21935453173_531117       step_3   \n",
       "...           ...                           ...          ...   \n",
       "316848    1574008  528720790_71583064618_169151        start   \n",
       "316849    2908510   562606085_36368381773_92090        start   \n",
       "316850    2908510   562606085_36368381773_92090       step_2   \n",
       "316851    2908510   562606085_36368381773_92090       step_1   \n",
       "316852    2908510   562606085_36368381773_92090        start   \n",
       "\n",
       "                  date_time  clnt_tenure_yr  clnt_tenure_mnth  clnt_age gendr  \\\n",
       "0       2017-04-17 15:27:07               5                64        79     U   \n",
       "1       2017-04-17 15:26:51               5                64        79     U   \n",
       "2       2017-04-17 15:19:22               5                64        79     U   \n",
       "3       2017-04-17 15:19:13               5                64        79     U   \n",
       "4       2017-04-17 15:18:04               5                64        79     U   \n",
       "...                     ...             ...               ...       ...   ...   \n",
       "316848  2017-05-06 23:43:27              10               121        55     U   \n",
       "316849  2017-05-10 22:57:17              21               252        34     M   \n",
       "316850  2017-05-10 22:56:31              21               252        34     M   \n",
       "316851  2017-05-10 22:56:23              21               252        34     M   \n",
       "316852  2017-05-10 22:56:20              21               252        34     M   \n",
       "\n",
       "        num_accts        bal  calls_6_mnth  logons_6_mnth Variation  \n",
       "0               2  189023.86             1              4      Test  \n",
       "1               2  189023.86             1              4      Test  \n",
       "2               2  189023.86             1              4      Test  \n",
       "3               2  189023.86             1              4      Test  \n",
       "4               2  189023.86             1              4      Test  \n",
       "...           ...        ...           ...            ...       ...  \n",
       "316848          2  153238.83             3              6      Test  \n",
       "316849          3  141808.05             6              9   Control  \n",
       "316850          3  141808.05             6              9   Control  \n",
       "316851          3  141808.05             6              9   Control  \n",
       "316852          3  141808.05             6              9   Control  \n",
       "\n",
       "[316853 rows x 13 columns]"
      ]
     },
     "execution_count": 14,
     "metadata": {},
     "output_type": "execute_result"
    }
   ],
   "source": [
    "mergeado_final = pd.merge(mergeado,experiment, on=\"client_id\", how=\"inner\")\n",
    "mergeado_final"
   ]
  },
  {
   "cell_type": "markdown",
   "id": "cdcc4f51",
   "metadata": {},
   "source": [
    "Creamos este df para su posterior uso cuando saquemos el tiempo entre pasos"
   ]
  },
  {
   "cell_type": "code",
   "execution_count": 15,
   "id": "173c4d81",
   "metadata": {},
   "outputs": [],
   "source": [
    "df_reducido = mergeado_final.copy()"
   ]
  },
  {
   "cell_type": "code",
   "execution_count": 16,
   "id": "bc424d43",
   "metadata": {},
   "outputs": [],
   "source": [
    "df_reducido.to_csv(\"df_errores.csv\",index=False)"
   ]
  },
  {
   "cell_type": "code",
   "execution_count": 17,
   "id": "36c603b1",
   "metadata": {},
   "outputs": [],
   "source": [
    "df_reducido['date_time'] = pd.to_datetime(df_reducido['date_time'])"
   ]
  },
  {
   "cell_type": "code",
   "execution_count": 18,
   "id": "d10e3103",
   "metadata": {},
   "outputs": [
    {
     "name": "stderr",
     "output_type": "stream",
     "text": [
      "C:\\Users\\34722\\AppData\\Local\\Temp\\ipykernel_11388\\3933595922.py:1: FutureWarning: Downcasting behavior in `replace` is deprecated and will be removed in a future version. To retain the old behavior, explicitly call `result.infer_objects(copy=False)`. To opt-in to the future behavior, set `pd.set_option('future.no_silent_downcasting', True)`\n",
      "  df_reducido['process_step'] = df_reducido['process_step'].replace({\n"
     ]
    }
   ],
   "source": [
    "df_reducido['process_step'] = df_reducido['process_step'].replace({\n",
    "    'start': 0,\n",
    "    'step_1': 1,\n",
    "    'step_2': 2,\n",
    "    'step_3': 3,\n",
    "    'confirm': 4\n",
    "}).astype(int)"
   ]
  },
  {
   "cell_type": "markdown",
   "id": "4a63746b",
   "metadata": {},
   "source": [
    "Aqui vemos las veces que los clientes ha entrado en la web de experimento"
   ]
  },
  {
   "cell_type": "code",
   "execution_count": 19,
   "id": "55ca5790",
   "metadata": {},
   "outputs": [
    {
     "data": {
      "text/plain": [
       "client_id  visit_id                    \n",
       "2313292    712824876_8175482950_365042     61\n",
       "7795550    428529357_6959155752_124163     42\n",
       "2138772    428919026_83099642366_340343    36\n",
       "5582954    834703874_81652602361_748606    35\n",
       "6686840    699879519_24719899358_572278    34\n",
       "                                           ..\n",
       "2222918    515291425_40012870236_243356     1\n",
       "7181877    155202309_26285837012_822535     1\n",
       "1554187    683415286_78995321682_75543      1\n",
       "3103730    366310645_26042650473_387647     1\n",
       "4429179    152095888_80543296567_213982     1\n",
       "Name: count, Length: 69447, dtype: int64"
      ]
     },
     "execution_count": 19,
     "metadata": {},
     "output_type": "execute_result"
    }
   ],
   "source": [
    "df_merged.groupby(\"client_id\")[\"visit_id\"].value_counts().sort_values(ascending=False)"
   ]
  },
  {
   "cell_type": "markdown",
   "id": "cc6a1006",
   "metadata": {},
   "source": [
    " Creamos un nuevo dataset filtrando demo en los clientes que tengan mas de 300k en la cuenta para ver nuestros clientes importantes"
   ]
  },
  {
   "cell_type": "code",
   "execution_count": 20,
   "id": "9a2def01",
   "metadata": {},
   "outputs": [],
   "source": [
    "demo_importantes = demo[demo[\"bal\"] >= 300000]"
   ]
  },
  {
   "cell_type": "markdown",
   "id": "ba5957e0",
   "metadata": {},
   "source": [
    "Creamos un CSV con los clientes importantes"
   ]
  },
  {
   "cell_type": "code",
   "execution_count": 21,
   "id": "19e13cea",
   "metadata": {},
   "outputs": [],
   "source": [
    "demo_importantes.to_csv(\"importantes.csv\", index=False)"
   ]
  },
  {
   "cell_type": "markdown",
   "id": "455f7df6",
   "metadata": {},
   "source": [
    "Tabla de clientes importantes por genero y por numero de cuentas"
   ]
  },
  {
   "cell_type": "code",
   "execution_count": 22,
   "id": "d58f9979",
   "metadata": {},
   "outputs": [
    {
     "data": {
      "text/html": [
       "<div>\n",
       "<style scoped>\n",
       "    .dataframe tbody tr th:only-of-type {\n",
       "        vertical-align: middle;\n",
       "    }\n",
       "\n",
       "    .dataframe tbody tr th {\n",
       "        vertical-align: top;\n",
       "    }\n",
       "\n",
       "    .dataframe thead th {\n",
       "        text-align: right;\n",
       "    }\n",
       "</style>\n",
       "<table border=\"1\" class=\"dataframe\">\n",
       "  <thead>\n",
       "    <tr style=\"text-align: right;\">\n",
       "      <th>num_accts</th>\n",
       "      <th>2</th>\n",
       "      <th>3</th>\n",
       "      <th>4</th>\n",
       "      <th>5</th>\n",
       "      <th>6</th>\n",
       "      <th>7</th>\n",
       "    </tr>\n",
       "    <tr>\n",
       "      <th>gendr</th>\n",
       "      <th></th>\n",
       "      <th></th>\n",
       "      <th></th>\n",
       "      <th></th>\n",
       "      <th></th>\n",
       "      <th></th>\n",
       "    </tr>\n",
       "  </thead>\n",
       "  <tbody>\n",
       "    <tr>\n",
       "      <th>F</th>\n",
       "      <td>1123</td>\n",
       "      <td>704</td>\n",
       "      <td>244</td>\n",
       "      <td>43</td>\n",
       "      <td>7</td>\n",
       "      <td>2</td>\n",
       "    </tr>\n",
       "    <tr>\n",
       "      <th>M</th>\n",
       "      <td>1929</td>\n",
       "      <td>1530</td>\n",
       "      <td>553</td>\n",
       "      <td>102</td>\n",
       "      <td>20</td>\n",
       "      <td>3</td>\n",
       "    </tr>\n",
       "    <tr>\n",
       "      <th>U</th>\n",
       "      <td>871</td>\n",
       "      <td>338</td>\n",
       "      <td>112</td>\n",
       "      <td>22</td>\n",
       "      <td>1</td>\n",
       "      <td>0</td>\n",
       "    </tr>\n",
       "  </tbody>\n",
       "</table>\n",
       "</div>"
      ],
      "text/plain": [
       "num_accts     2     3    4    5   6  7\n",
       "gendr                                 \n",
       "F          1123   704  244   43   7  2\n",
       "M          1929  1530  553  102  20  3\n",
       "U           871   338  112   22   1  0"
      ]
     },
     "execution_count": 22,
     "metadata": {},
     "output_type": "execute_result"
    }
   ],
   "source": [
    "crosstabF = pd.crosstab(demo_importantes['gendr'], demo_importantes['num_accts'])\n",
    "crosstabF"
   ]
  },
  {
   "cell_type": "markdown",
   "id": "8e826d19",
   "metadata": {},
   "source": [
    "Creamos una copia de demo para tocar los datos y sacar info sin modificar e original"
   ]
  },
  {
   "cell_type": "code",
   "execution_count": 23,
   "id": "0a7927b6",
   "metadata": {},
   "outputs": [],
   "source": [
    "demo_copia = demo.copy()\n",
    "demo_copia_imp = demo_importantes.copy()"
   ]
  },
  {
   "cell_type": "markdown",
   "id": "d7ef4c4b",
   "metadata": {},
   "source": [
    "Cambiamos la columna clnt_age en rangos de 15 años para todos los clientes y para los importantes"
   ]
  },
  {
   "cell_type": "code",
   "execution_count": 24,
   "id": "22c6c4c0",
   "metadata": {},
   "outputs": [],
   "source": [
    "bins = [0, 25, 40, 55, 70, demo_copia['clnt_age'].max()]\n",
    "labels = ['>25','25-40','40-55','55-70','<70']\n",
    "demo_copia['clnt_age'] = pd.cut(demo_copia['clnt_age'], bins=bins, labels=labels, include_lowest=True)"
   ]
  },
  {
   "cell_type": "code",
   "execution_count": 25,
   "id": "c31c1530",
   "metadata": {},
   "outputs": [],
   "source": [
    "demo_copia.to_csv(\"importantes2.csv\", index=False)"
   ]
  },
  {
   "cell_type": "code",
   "execution_count": 26,
   "id": "a7f05e39",
   "metadata": {},
   "outputs": [
    {
     "data": {
      "image/png": "[encoded data removed]",
      "text/plain": [
       "<Figure size 640x480 with 1 Axes>"
      ]
     },
     "metadata": {},
     "output_type": "display_data"
    }
   ],
   "source": [
    "sns.histplot(demo_copia['clnt_age'], bins=30, color=\"blue\")\n",
    "plt.show()"
   ]
  },
  {
   "cell_type": "code",
   "execution_count": 27,
   "id": "af41b6e0",
   "metadata": {},
   "outputs": [],
   "source": [
    "bins = [0, 25, 40, 55, 70, demo_copia_imp['clnt_age'].max()]\n",
    "labels = ['>25','25-40','40-55','55-70','<70']\n",
    "demo_copia_imp['clnt_age'] = pd.cut(demo_copia_imp['clnt_age'], bins=bins, labels=labels, include_lowest=True)"
   ]
  },
  {
   "cell_type": "code",
   "execution_count": 28,
   "id": "fc807854",
   "metadata": {},
   "outputs": [
    {
     "data": {
      "image/png": "[encoded data removed]",
      "text/plain": [
       "<Figure size 640x480 with 1 Axes>"
      ]
     },
     "metadata": {},
     "output_type": "display_data"
    }
   ],
   "source": [
    "sns.histplot(demo_copia_imp['clnt_age'], bins=30, color=\"blue\")\n",
    "plt.show()"
   ]
  },
  {
   "cell_type": "markdown",
   "id": "53a06a1e",
   "metadata": {},
   "source": [
    "Agrupamos en grupos de 300k, 400k, 500k, 1M y +1,5M los clientes importantes"
   ]
  },
  {
   "cell_type": "code",
   "execution_count": 29,
   "id": "dec738e3",
   "metadata": {},
   "outputs": [],
   "source": [
    "bins = [300000, 400000, 500000, 750000, 1000000, 1500000, demo_copia_imp['bal'].max()]\n",
    "labels = ['+300k', \"+400k\", '+500k', '+750k', \"+1M\", \"+1.5M\"]\n",
    "demo_copia_imp['bal'] = pd.cut(demo_copia_imp['bal'], bins=bins, labels=labels, include_lowest=True)"
   ]
  },
  {
   "cell_type": "code",
   "execution_count": 30,
   "id": "1d531b51",
   "metadata": {},
   "outputs": [
    {
     "data": {
      "image/png": "[encoded data removed]",
      "text/plain": [
       "<Figure size 640x480 with 1 Axes>"
      ]
     },
     "metadata": {},
     "output_type": "display_data"
    }
   ],
   "source": [
    "sns.histplot(demo_copia_imp['bal'], bins=30, color=\"blue\")\n",
    "plt.show()"
   ]
  },
  {
   "cell_type": "markdown",
   "id": "d2eecc6e",
   "metadata": {},
   "source": [
    "Sacamos una garfica para ver la distribución de edad de los clientes importantes"
   ]
  },
  {
   "cell_type": "code",
   "execution_count": 31,
   "id": "aefd9e77",
   "metadata": {},
   "outputs": [
    {
     "data": {
      "image/png": "[encoded data removed]",
      "text/plain": [
       "<Figure size 1200x700 with 1 Axes>"
      ]
     },
     "metadata": {},
     "output_type": "display_data"
    }
   ],
   "source": [
    "tabla = pd.crosstab(demo_copia_imp['bal'], demo_copia_imp['clnt_age'])\n",
    "\n",
    "# Gráfico de barras apiladas\n",
    "tabla.plot(kind='bar', stacked=True, figsize=(12,7))\n",
    "plt.xlabel('Balance')\n",
    "plt.ylabel('Cantidad de clientes')\n",
    "plt.title('Distribución del Grupo de Edad por Balance')\n",
    "plt.legend(title='Grupo de Edad')\n",
    "plt.tight_layout()\n",
    "plt.show()"
   ]
  },
  {
   "cell_type": "markdown",
   "id": "36e9854d",
   "metadata": {},
   "source": [
    "Tabla de distribución de edad de los clientes importantes"
   ]
  },
  {
   "cell_type": "code",
   "execution_count": 32,
   "id": "4fa8ace4",
   "metadata": {},
   "outputs": [
    {
     "data": {
      "text/html": [
       "<div>\n",
       "<style scoped>\n",
       "    .dataframe tbody tr th:only-of-type {\n",
       "        vertical-align: middle;\n",
       "    }\n",
       "\n",
       "    .dataframe tbody tr th {\n",
       "        vertical-align: top;\n",
       "    }\n",
       "\n",
       "    .dataframe thead th {\n",
       "        text-align: right;\n",
       "    }\n",
       "</style>\n",
       "<table border=\"1\" class=\"dataframe\">\n",
       "  <thead>\n",
       "    <tr style=\"text-align: right;\">\n",
       "      <th>bal</th>\n",
       "      <th>+300k</th>\n",
       "      <th>+400k</th>\n",
       "      <th>+500k</th>\n",
       "      <th>+750k</th>\n",
       "      <th>+1M</th>\n",
       "      <th>+1.5M</th>\n",
       "    </tr>\n",
       "    <tr>\n",
       "      <th>clnt_age</th>\n",
       "      <th></th>\n",
       "      <th></th>\n",
       "      <th></th>\n",
       "      <th></th>\n",
       "      <th></th>\n",
       "      <th></th>\n",
       "    </tr>\n",
       "  </thead>\n",
       "  <tbody>\n",
       "    <tr>\n",
       "      <th>&gt;25</th>\n",
       "      <td>25</td>\n",
       "      <td>14</td>\n",
       "      <td>10</td>\n",
       "      <td>3</td>\n",
       "      <td>1</td>\n",
       "      <td>1</td>\n",
       "    </tr>\n",
       "    <tr>\n",
       "      <th>25-40</th>\n",
       "      <td>289</td>\n",
       "      <td>139</td>\n",
       "      <td>173</td>\n",
       "      <td>75</td>\n",
       "      <td>42</td>\n",
       "      <td>41</td>\n",
       "    </tr>\n",
       "    <tr>\n",
       "      <th>40-55</th>\n",
       "      <td>769</td>\n",
       "      <td>510</td>\n",
       "      <td>621</td>\n",
       "      <td>253</td>\n",
       "      <td>189</td>\n",
       "      <td>166</td>\n",
       "    </tr>\n",
       "    <tr>\n",
       "      <th>55-70</th>\n",
       "      <td>1036</td>\n",
       "      <td>642</td>\n",
       "      <td>876</td>\n",
       "      <td>346</td>\n",
       "      <td>315</td>\n",
       "      <td>272</td>\n",
       "    </tr>\n",
       "    <tr>\n",
       "      <th>&lt;70</th>\n",
       "      <td>236</td>\n",
       "      <td>148</td>\n",
       "      <td>191</td>\n",
       "      <td>76</td>\n",
       "      <td>70</td>\n",
       "      <td>75</td>\n",
       "    </tr>\n",
       "  </tbody>\n",
       "</table>\n",
       "</div>"
      ],
      "text/plain": [
       "bal       +300k  +400k  +500k  +750k  +1M  +1.5M\n",
       "clnt_age                                        \n",
       ">25          25     14     10      3    1      1\n",
       "25-40       289    139    173     75   42     41\n",
       "40-55       769    510    621    253  189    166\n",
       "55-70      1036    642    876    346  315    272\n",
       "<70         236    148    191     76   70     75"
      ]
     },
     "execution_count": 32,
     "metadata": {},
     "output_type": "execute_result"
    }
   ],
   "source": [
    "crosstab = pd.crosstab(demo_copia_imp['clnt_age'], demo_copia_imp['bal'])\n",
    "crosstab"
   ]
  },
  {
   "cell_type": "markdown",
   "id": "24d603fc",
   "metadata": {},
   "source": [
    "Grafica edad de los clientes"
   ]
  },
  {
   "cell_type": "code",
   "execution_count": 33,
   "id": "fd3fa180",
   "metadata": {},
   "outputs": [
    {
     "data": {
      "image/png": "[encoded data removed]",
      "text/plain": [
       "<Figure size 640x480 with 1 Axes>"
      ]
     },
     "metadata": {},
     "output_type": "display_data"
    }
   ],
   "source": [
    "sns.histplot(demo['clnt_age'], kde=True, bins=30, color=\"blue\")\n",
    "plt.show()"
   ]
  },
  {
   "cell_type": "markdown",
   "id": "e1181ad1",
   "metadata": {},
   "source": [
    "Grafica antiguedad clientes"
   ]
  },
  {
   "cell_type": "code",
   "execution_count": 34,
   "id": "852cd5c1",
   "metadata": {},
   "outputs": [
    {
     "data": {
      "image/png": "[encoded data removed]",
      "text/plain": [
       "<Figure size 640x480 with 1 Axes>"
      ]
     },
     "metadata": {},
     "output_type": "display_data"
    }
   ],
   "source": [
    "sns.histplot(demo['clnt_tenure_yr'], kde=True, bins=30, color=\"blue\")\n",
    "plt.show()"
   ]
  },
  {
   "cell_type": "code",
   "execution_count": 35,
   "id": "8ad3b40d",
   "metadata": {},
   "outputs": [],
   "source": [
    "bins = [0, 50000, 100000, 200000, 300000, 500000, demo_copia['bal'].max()]\n",
    "labels = ['-50k','-100k','-200k','-300k','-500k','+500k']\n",
    "demo_copia['bal'] = pd.cut(demo_copia['bal'], bins=bins, labels=labels, include_lowest=True)"
   ]
  },
  {
   "cell_type": "code",
   "execution_count": 36,
   "id": "fd86693c",
   "metadata": {},
   "outputs": [
    {
     "data": {
      "image/png": "[encoded data removed]",
      "text/plain": [
       "<Figure size 1200x700 with 1 Axes>"
      ]
     },
     "metadata": {},
     "output_type": "display_data"
    }
   ],
   "source": [
    "tabla = pd.crosstab(demo_copia['bal'], demo_copia['clnt_age'])\n",
    "\n",
    "# Gráfico de barras apiladas\n",
    "tabla.plot(kind='bar', stacked=True, figsize=(12,7))\n",
    "plt.xlabel('Balance')\n",
    "plt.ylabel('Cantidad de clientes')\n",
    "plt.title('Distribución del Grupo de Edad por Balance')\n",
    "plt.legend(title='Grupo de Edad')\n",
    "plt.tight_layout()\n",
    "plt.show()"
   ]
  },
  {
   "cell_type": "markdown",
   "id": "e852996e",
   "metadata": {},
   "source": [
    "PORCENTAGE DE FINALIZACIÓN DE LOS CLIENTES"
   ]
  },
  {
   "cell_type": "code",
   "execution_count": 37,
   "id": "eeb62d11",
   "metadata": {},
   "outputs": [
    {
     "name": "stdout",
     "output_type": "stream",
     "text": [
      "Completion Rate: 54.45%\n"
     ]
    }
   ],
   "source": [
    "# Aseguramos que las fechas estén en formato datetime\n",
    "df_merged['date_time'] = pd.to_datetime(df_merged['date_time'])\n",
    "# Elegimos el último paso del funnel (puedes cambiar si es otro)\n",
    "last_step = 'confirm'\n",
    "# Agrupamos por visita y verificamos si alcanzó el último paso\n",
    "completion = df_merged.groupby('visit_id')['process_step'].apply(lambda steps: last_step in steps.values)\n",
    "completion_rate = completion.mean() * 100\n",
    "print(f\"Completion Rate: {completion_rate:.2f}%\")"
   ]
  },
  {
   "cell_type": "markdown",
   "id": "ab10855e",
   "metadata": {},
   "source": [
    "PORCENTAGE DE FINALIZACIÓN DE LSO CLIENTES PARA TEST Y CONTROL"
   ]
  },
  {
   "cell_type": "code",
   "execution_count": 38,
   "id": "b3e1ec6b",
   "metadata": {},
   "outputs": [
    {
     "name": "stdout",
     "output_type": "stream",
     "text": [
      "Completion Rate (Control): 49.85%\n",
      "Completion Rate (Test):    58.52%\n"
     ]
    }
   ],
   "source": [
    "# Aseguramos que date_time esté en formato datetime\n",
    "df_merged['date_time'] = pd.to_datetime(df_merged['date_time'])\n",
    "# Paso final del proceso\n",
    "last_step = 'confirm'\n",
    "# Verificamos si cada visita llegó a 'confirm', separado por Variation\n",
    "completion = df_merged.groupby(['Variation', 'visit_id'])['process_step'] \\\n",
    "    .apply(lambda steps: last_step in steps.values).reset_index(name='completed')\n",
    "# Calculamos la tasa por grupo\n",
    "completion_rate_control = completion[completion['Variation'] == 'Control']['completed'].mean() * 100\n",
    "completion_rate_test = completion[completion['Variation'] == 'Test']['completed'].mean() * 100\n",
    "# Mostrar resultados\n",
    "print(f\"Completion Rate (Control): {completion_rate_control:.2f}%\")\n",
    "print(f\"Completion Rate (Test):    {completion_rate_test:.2f}%\")"
   ]
  },
  {
   "cell_type": "markdown",
   "id": "0ce2cf29",
   "metadata": {},
   "source": [
    "HIPOTESIS DE FINALIZACIÓN\n",
    "\n",
    "H0 Completion Rate (Control) = Completion Rate (Test)\n",
    "\n",
    "H1 Completion Rate (Control) != Completion Rate (Test)\n",
    "\n",
    "ALPHA = 0,05"
   ]
  },
  {
   "cell_type": "code",
   "execution_count": 39,
   "id": "116fcffe",
   "metadata": {},
   "outputs": [
    {
     "name": "stdout",
     "output_type": "stream",
     "text": [
      "Z-statistic: -22.857\n",
      "P-value: 0.000000\n"
     ]
    }
   ],
   "source": [
    "# Contar visitas únicas por grupo\n",
    "total_visits_control = completion[completion['Variation'] == 'Control']['visit_id'].nunique()\n",
    "total_visits_test = completion[completion['Variation'] == 'Test']['visit_id'].nunique()\n",
    "# Contar visitas que completaron (confirm) por grupo\n",
    "confirmations_control = completion[(completion['Variation'] == 'Control') & (completion['completed'])]['visit_id'].nunique()\n",
    "confirmations_test = completion[(completion['Variation'] == 'Test') & (completion['completed'])]['visit_id'].nunique()\n",
    "# Preparar datos para el test Z\n",
    "x = [confirmations_control, confirmations_test]  # éxitos\n",
    "n = [total_visits_control, total_visits_test]    # totales\n",
    "# Aplicar test Z de dos colas (two-sided)\n",
    "z_stat, p_value = proportions_ztest(x, n, alternative='two-sided')\n",
    "# Mostrar resultados\n",
    "print(f\"Z-statistic: {z_stat:.3f}\")\n",
    "print(f\"P-value: {p_value:.6f}\")"
   ]
  },
  {
   "cell_type": "markdown",
   "id": "d7d76ba2",
   "metadata": {},
   "source": [
    "P-value ≈ 0.000000\n",
    "Rechazamos la hipótesis nula. Hay evidencia muy fuerte de que el grupo Test tiene una tasa de finalización diferente (y mayor) que el grupo Control.\n",
    "Z-Test valor mide cuántas desviaciones estándar hay entre las dos tasas.\n",
    " Z = -22.857 significa que la diferencia entre tasas es extremadamente grande y a favor del grupo Test."
   ]
  },
  {
   "cell_type": "markdown",
   "id": "9b5b29ef",
   "metadata": {},
   "source": [
    "Vamos a ver el tiempo entre pasos"
   ]
  },
  {
   "cell_type": "markdown",
   "id": "34dbe35b",
   "metadata": {},
   "source": [
    "CREAMOS 4 COLUMNAS CON LOS TIEMPOS ENTRE PASOS, CREAMOS COLUMAS PARA VER LOS TIEMPOS Y LOS ERRORES EN CASO DE QUE VUELVAN HACIA ATRAS Y SE PASEN MAS DE 6 MINUTOS"
   ]
  },
  {
   "cell_type": "code",
   "execution_count": 40,
   "id": "107d887a",
   "metadata": {},
   "outputs": [
    {
     "name": "stderr",
     "output_type": "stream",
     "text": [
      "C:\\Users\\34722\\AppData\\Local\\Temp\\ipykernel_11388\\1824582130.py:35: FutureWarning: Setting an item of incompatible dtype is deprecated and will raise an error in a future version of pandas. Value 'error' has dtype incompatible with float64, please explicitly cast to a compatible dtype first.\n",
      "  df_reducido.loc[idx_current, col_name] = \"error\"\n",
      "C:\\Users\\34722\\AppData\\Local\\Temp\\ipykernel_11388\\1824582130.py:35: FutureWarning: Setting an item of incompatible dtype is deprecated and will raise an error in a future version of pandas. Value 'error' has dtype incompatible with float64, please explicitly cast to a compatible dtype first.\n",
      "  df_reducido.loc[idx_current, col_name] = \"error\"\n",
      "C:\\Users\\34722\\AppData\\Local\\Temp\\ipykernel_11388\\1824582130.py:35: FutureWarning: Setting an item of incompatible dtype is deprecated and will raise an error in a future version of pandas. Value 'error' has dtype incompatible with float64, please explicitly cast to a compatible dtype first.\n",
      "  df_reducido.loc[idx_current, col_name] = \"error\"\n",
      "C:\\Users\\34722\\AppData\\Local\\Temp\\ipykernel_11388\\1824582130.py:29: FutureWarning: Setting an item of incompatible dtype is deprecated and will raise an error in a future version of pandas. Value 'error' has dtype incompatible with float64, please explicitly cast to a compatible dtype first.\n",
      "  df_reducido.loc[idx_current, col_name] = \"error\"\n"
     ]
    }
   ],
   "source": [
    "for step in range(4):\n",
    "    df_reducido[f'step_{step}_to_{step+1}'] = np.nan\n",
    "\n",
    "# Ordenar temporalmente por cliente + visita\n",
    "df_reducido = df_reducido.sort_values(['client_id', 'visit_id', 'date_time']).copy()\n",
    "\n",
    "# Procesar cada cliente y visita por separado\n",
    "for (client, visit), group in df_reducido.groupby(['client_id', 'visit_id']):\n",
    "    group = group.reset_index()\n",
    "    \n",
    "    for i in range(len(group) - 1):\n",
    "        idx_current = group.loc[i, 'index']\n",
    "        idx_next = group.loc[i + 1, 'index']\n",
    "        \n",
    "        step_now = group.loc[i, 'process_step']\n",
    "        step_next = group.loc[i + 1, 'process_step']\n",
    "        \n",
    "        time_now = group.loc[i, 'date_time']\n",
    "        time_next = group.loc[i + 1, 'date_time']\n",
    "        \n",
    "        # Verificamos si el siguiente paso es el que corresponde\n",
    "        if step_next == step_now + 1:\n",
    "            diff = (time_next - time_now).total_seconds()\n",
    "            \n",
    "            col_name = f'step_{step_now}_to_{step_next}'\n",
    "            if 0 <= diff <= 360:\n",
    "                df_reducido.loc[idx_current, col_name] = int(diff)\n",
    "            else:\n",
    "                df_reducido.loc[idx_current, col_name] = \"error\"\n",
    "        \n",
    "        # Si el paso siguiente es menor (retroceso), marcamos error en el paso actual\n",
    "        elif step_next < step_now:\n",
    "            if step_now < 4:\n",
    "                col_name = f'step_{step_now}_to_{step_now+1}'\n",
    "                df_reducido.loc[idx_current, col_name] = \"error\""
   ]
  },
  {
   "cell_type": "markdown",
   "id": "cc42fac5",
   "metadata": {},
   "source": [
    "AQUI EN CASO DE QUE SIGAN EN EL MISMO PASO Y SALGA ERROR"
   ]
  },
  {
   "cell_type": "code",
   "execution_count": 41,
   "id": "238d0671",
   "metadata": {},
   "outputs": [],
   "source": [
    "for (client, visit), group in df_reducido.groupby(['client_id', 'visit_id']):\n",
    "    group = group.reset_index()\n",
    "    \n",
    "    for i in range(len(group) - 1):\n",
    "        idx_current = group.loc[i, 'index']\n",
    "        step_now = group.loc[i, 'process_step']\n",
    "        step_next = group.loc[i + 1, 'process_step']\n",
    "        \n",
    "        if step_now == step_next and step_now < 4:\n",
    "            col_name = f'step_{step_now}_to_{step_now+1}'\n",
    "            df_reducido.loc[idx_current, col_name] = \"error\""
   ]
  },
  {
   "cell_type": "code",
   "execution_count": 42,
   "id": "b2362b7b",
   "metadata": {},
   "outputs": [],
   "source": [
    "df_reducido_copia = df_reducido.copy()"
   ]
  },
  {
   "cell_type": "code",
   "execution_count": 43,
   "id": "b3e6321f",
   "metadata": {},
   "outputs": [
    {
     "name": "stdout",
     "output_type": "stream",
     "text": [
      "Cantidad de errores por paso:\n",
      "step_0_to_1    22462\n",
      "step_1_to_2    11843\n",
      "step_2_to_3     9074\n",
      "step_3_to_4    12590\n",
      "dtype: int64\n"
     ]
    }
   ],
   "source": [
    "# Lista de columnas de paso\n",
    "step_cols = ['step_0_to_1', 'step_1_to_2', 'step_2_to_3', 'step_3_to_4']\n",
    "\n",
    "# Contar cuántas veces aparece \"error\" en cada columna\n",
    "errores_por_paso = df_reducido_copia[step_cols].apply(lambda col: (col == 'error').sum())\n",
    "\n",
    "# Mostrar el resultado\n",
    "print(\"Cantidad de errores por paso:\")\n",
    "print(errores_por_paso)"
   ]
  },
  {
   "cell_type": "code",
   "execution_count": 44,
   "id": "bb487b64",
   "metadata": {},
   "outputs": [],
   "source": [
    "# Definimos los valores numéricos según el paso\n",
    "errores_dict = {\n",
    "    'step_0_to_1': 1,\n",
    "    'step_1_to_2': 2,\n",
    "    'step_2_to_3': 3,\n",
    "    'step_3_to_4': 4\n",
    "}\n",
    "\n",
    "# Inicializamos la columna 'step_error' con NaN\n",
    "df_reducido['step_error'] = np.nan\n",
    "\n",
    "# Recorremos cada columna de pasos para detectar si tiene \"error\"\n",
    "for col, val in errores_dict.items():\n",
    "    df_reducido.loc[df_reducido[col] == 'error', 'step_error'] = val\n",
    "    df_reducido[col] = pd.to_numeric(df_reducido[col], errors='coerce')  # También convertimos el \"error\" a NaN en la misma pasada"
   ]
  },
  {
   "cell_type": "code",
   "execution_count": 45,
   "id": "8dcf2cf0",
   "metadata": {},
   "outputs": [],
   "source": [
    "# Renombrar la columna original a 'age'\n",
    "df_reducido.rename(columns={'clnt_age': 'age'}, inplace=True)\n",
    "\n",
    "# Crear la nueva columna 'clnt_age' con rangos\n",
    "bins = [0, 25, 40, 55, 70, df_reducido['age'].max()]\n",
    "labels = ['>25', '25-40', '40-55', '55-70', '<70']\n",
    "\n",
    "df_reducido['clnt_age'] = pd.cut(df_reducido['age'], bins=bins, labels=labels, include_lowest=True)"
   ]
  },
  {
   "cell_type": "code",
   "execution_count": 46,
   "id": "2526b57d",
   "metadata": {},
   "outputs": [],
   "source": [
    "df_reducido['step_0_to_1'] = df_reducido['step_0_to_1'].astype('Int64')\n",
    "df_reducido['step_1_to_2'] = df_reducido['step_1_to_2'].astype('Int64')\n",
    "df_reducido['step_2_to_3'] = df_reducido['step_2_to_3'].astype('Int64')\n",
    "df_reducido['step_3_to_4'] = df_reducido['step_3_to_4'].astype('Int64')\n",
    "df_reducido['step_error'] = df_reducido['step_error'].astype('object')\n"
   ]
  },
  {
   "cell_type": "code",
   "execution_count": 47,
   "id": "2136c028",
   "metadata": {},
   "outputs": [],
   "source": [
    "df_reducido.to_csv(\"Tableau2.csv\")"
   ]
  },
  {
   "cell_type": "markdown",
   "id": "88f90845",
   "metadata": {},
   "source": [
    "Cantidad de errores por paso"
   ]
  },
  {
   "cell_type": "markdown",
   "id": "82b61ae3",
   "metadata": {},
   "source": [
    "Cantidad de errores por paso para Test y Control"
   ]
  },
  {
   "cell_type": "code",
   "execution_count": 48,
   "id": "3c6772ba",
   "metadata": {},
   "outputs": [
    {
     "name": "stdout",
     "output_type": "stream",
     "text": [
      "Cantidad de errores por paso y grupo:\n",
      "              Test  Control\n",
      "step_0_to_1  12494     9968\n",
      "step_1_to_2   8081     3762\n",
      "step_2_to_3   5737     3337\n",
      "step_3_to_4   6576     6014\n"
     ]
    }
   ],
   "source": [
    "step_cols = ['step_0_to_1', 'step_1_to_2', 'step_2_to_3', 'step_3_to_4']\n",
    "\n",
    "# Crear un DataFrame para guardar los conteos\n",
    "errores_por_variation = {}\n",
    "\n",
    "# Recorrer cada grupo: Test y Control\n",
    "for variation in df_reducido['Variation'].unique():\n",
    "    df_variation = df_reducido_copia[df_reducido_copia['Variation'] == variation]\n",
    "    errores = df_variation[step_cols].apply(lambda col: (col == 'error').sum())\n",
    "    errores_por_variation[variation] = errores\n",
    "\n",
    "# Convertir a DataFrame para visualización clara\n",
    "errores_df = pd.DataFrame(errores_por_variation)\n",
    "\n",
    "print(\"Cantidad de errores por paso y grupo:\")\n",
    "print(errores_df)"
   ]
  },
  {
   "cell_type": "markdown",
   "id": "7e076185",
   "metadata": {},
   "source": [
    "HIPOTESIS Nº DE ERRORES PARA TEST Y CONTROL\n",
    "\n",
    "H0 Test nº errores = Control nº errores\n",
    "\n",
    "H1 Test nº errores ! = Control nº errores\n",
    "\n",
    "alpha = 0.05"
   ]
  },
  {
   "cell_type": "code",
   "execution_count": 49,
   "id": "7393f58e",
   "metadata": {},
   "outputs": [
    {
     "name": "stderr",
     "output_type": "stream",
     "text": [
      "C:\\Users\\34722\\AppData\\Local\\Temp\\ipykernel_11388\\115802844.py:2: FutureWarning: DataFrame.applymap has been deprecated. Use DataFrame.map instead.\n",
      "  df_flags = df_reducido_copia[step_cols].applymap(lambda x: 1 if str(x).lower() == 'error' else 0)\n"
     ]
    },
    {
     "name": "stdout",
     "output_type": "stream",
     "text": [
      "Errores por grupo:\n",
      "           step_0_to_1  step_1_to_2  step_2_to_3  step_3_to_4\n",
      "Variation                                                    \n",
      "Control           9968         3762         3337         6014\n",
      "Test             12494         8081         5737         6576\n",
      "\n",
      "Resultados del test Chi²:\n",
      "              chi2_stat        p_value\n",
      "step_0_to_1    0.058743   8.084935e-01\n",
      "step_1_to_2  782.516755  3.414174e-172\n",
      "step_2_to_3  213.897970   1.938544e-48\n",
      "step_3_to_4   63.853428   1.340289e-15\n"
     ]
    }
   ],
   "source": [
    "# Crear flags binarios: 1 si \"error\", 0 si no\n",
    "df_flags = df_reducido_copia[step_cols].applymap(lambda x: 1 if str(x).lower() == 'error' else 0)\n",
    "df_flags['Variation'] = df_reducido_copia['Variation']\n",
    "\n",
    "# Contar errores por paso y grupo (Test y Control)\n",
    "errores_por_grupo = df_flags.groupby('Variation')[step_cols].sum()\n",
    "\n",
    "# Chi² test por paso\n",
    "chi2_results = {}\n",
    "for col in step_cols:\n",
    "    tabla = pd.crosstab(df_flags['Variation'], df_flags[col])\n",
    "    chi2_stat, p_value, _, _ = chi2_contingency(tabla)\n",
    "    chi2_results[col] = {'chi2_stat': chi2_stat, 'p_value': p_value}\n",
    "\n",
    "# Convertir a DataFrame\n",
    "df_chi2_errores = pd.DataFrame(chi2_results).T\n",
    "\n",
    "# Mostrar resultados\n",
    "print(\"Errores por grupo:\")\n",
    "print(errores_por_grupo)\n",
    "\n",
    "print(\"\\nResultados del test Chi²:\")\n",
    "print(df_chi2_errores)"
   ]
  },
  {
   "cell_type": "code",
   "execution_count": 50,
   "id": "a3d05318",
   "metadata": {},
   "outputs": [
    {
     "name": "stdout",
     "output_type": "stream",
     "text": [
      "Variation\n",
      "Control    23507\n",
      "Test       26933\n",
      "Name: client_id, dtype: int64\n"
     ]
    }
   ],
   "source": [
    "clientes_por_grupo = df_reducido.groupby('Variation')['client_id'].nunique()\n",
    "print(clientes_por_grupo)"
   ]
  },
  {
   "cell_type": "markdown",
   "id": "80a9b675",
   "metadata": {},
   "source": [
    "Todos los casos la H0 la rechazamos, ya que el pvalue es menor que alpha en todos los pasos."
   ]
  },
  {
   "cell_type": "code",
   "execution_count": 51,
   "id": "25be6526",
   "metadata": {},
   "outputs": [
    {
     "name": "stdout",
     "output_type": "stream",
     "text": [
      "Promedio de pasos faltantes por grupo (step_error promedio):\n",
      "  Variation  step_error\n",
      "0   Control        1.49\n",
      "1      Test        1.10\n"
     ]
    }
   ],
   "source": [
    "max_step_per_visit = df_reducido.groupby(['client_id', 'visit_id', 'Variation'])['process_step'].max().reset_index()\n",
    "\n",
    "# Paso 2: Calcular cuántos pasos le faltaron a cada visita para llegar al paso final (4)\n",
    "max_step_per_visit['step_error'] = 4 - max_step_per_visit['process_step']\n",
    "\n",
    "# Paso 3: Calcular el promedio de steps faltantes por grupo\n",
    "error_avg_by_group = max_step_per_visit.groupby('Variation')['step_error'].mean().round(2).reset_index()\n",
    "\n",
    "# Mostrar resultados\n",
    "print(\"Promedio de pasos faltantes por grupo (step_error promedio):\")\n",
    "print(error_avg_by_group)"
   ]
  },
  {
   "cell_type": "code",
   "execution_count": 52,
   "id": "8940824c",
   "metadata": {},
   "outputs": [
    {
     "name": "stdout",
     "output_type": "stream",
     "text": [
      "Tasa de abandono por paso (%):\n",
      "process_step      0      1     2      3\n",
      "Variation                              \n",
      "Control       23.49  10.84  6.33   9.45\n",
      "Test          13.66  10.50  6.91  10.35\n"
     ]
    }
   ],
   "source": [
    "last_step_by_visit = df_reducido.groupby(['client_id', 'visit_id', 'Variation'])['process_step'].max().reset_index()\n",
    "\n",
    "# Paso 2: filtrar los que NO llegaron al paso final (4)\n",
    "abandonos = last_step_by_visit[last_step_by_visit['process_step'] < 4].copy()\n",
    "\n",
    "# Paso 3: contar cuántas visitas se quedan en cada paso, por grupo\n",
    "abandono_por_paso = abandonos.groupby(['Variation', 'process_step']).size().unstack(fill_value=0)\n",
    "\n",
    "# Paso 4: calcular el total de visitas por grupo\n",
    "total_visitas = last_step_by_visit.groupby('Variation')['visit_id'].count()\n",
    "\n",
    "# Paso 5: calcular % de abandono por paso\n",
    "abandono_rate = (abandono_por_paso.div(total_visitas, axis=0) * 100).round(2)\n",
    "\n",
    "# Mostrar resultados\n",
    "print(\"Tasa de abandono por paso (%):\")\n",
    "print(abandono_rate)"
   ]
  },
  {
   "cell_type": "code",
   "execution_count": 53,
   "id": "4d1da373",
   "metadata": {},
   "outputs": [],
   "source": [
    "totales = df_reducido.groupby('Variation')[['step_0_to_1', 'step_1_to_2', 'step_2_to_3', 'step_3_to_4']] \\\n",
    "    .apply(lambda x: x.notna().sum())"
   ]
  },
  {
   "cell_type": "code",
   "execution_count": 54,
   "id": "74fa6f8f",
   "metadata": {},
   "outputs": [
    {
     "name": "stdout",
     "output_type": "stream",
     "text": [
      "Error rate por paso y grupo (%):\n",
      "           step_0_to_1  step_1_to_2  step_2_to_3  step_3_to_4\n",
      "Variation                                                    \n",
      "Control          39.23        16.94        15.96        42.23\n",
      "Test             30.19        13.75        14.03        34.60\n"
     ]
    }
   ],
   "source": [
    "error_rates = (errores / totales) * 100\n",
    "error_rates = error_rates.round(2)\n",
    "print(\"Error rate por paso y grupo (%):\")\n",
    "print(error_rates)"
   ]
  },
  {
   "cell_type": "code",
   "execution_count": 55,
   "id": "47ca4f45",
   "metadata": {},
   "outputs": [
    {
     "name": "stdout",
     "output_type": "stream",
     "text": [
      "Error rate por paso y grupo (%), incluyendo total promedio:\n",
      "           step_0_to_1  step_1_to_2  step_2_to_3  step_3_to_4  Total\n",
      "Variation                                                           \n",
      "Control          39.23        16.94        15.96        42.23  28.59\n",
      "Test             30.19        13.75        14.03        34.60  23.14\n"
     ]
    }
   ],
   "source": [
    "error_rates[\"Total\"] = error_rates.mean(axis=1).round(2)\n",
    "\n",
    "# Mostrar resultado\n",
    "print(\"Error rate por paso y grupo (%), incluyendo total promedio:\")\n",
    "print(error_rates)"
   ]
  },
  {
   "cell_type": "markdown",
   "id": "603c6a81",
   "metadata": {},
   "source": [
    "Promedio de tiempo entre pasos para test y control"
   ]
  },
  {
   "cell_type": "code",
   "execution_count": 56,
   "id": "869d6ce5",
   "metadata": {},
   "outputs": [
    {
     "data": {
      "text/html": [
       "<div>\n",
       "<style scoped>\n",
       "    .dataframe tbody tr th:only-of-type {\n",
       "        vertical-align: middle;\n",
       "    }\n",
       "\n",
       "    .dataframe tbody tr th {\n",
       "        vertical-align: top;\n",
       "    }\n",
       "\n",
       "    .dataframe thead th {\n",
       "        text-align: right;\n",
       "    }\n",
       "</style>\n",
       "<table border=\"1\" class=\"dataframe\">\n",
       "  <thead>\n",
       "    <tr style=\"text-align: right;\">\n",
       "      <th></th>\n",
       "      <th>step_0_to_1</th>\n",
       "      <th>step_1_to_2</th>\n",
       "      <th>step_2_to_3</th>\n",
       "      <th>step_3_to_4</th>\n",
       "    </tr>\n",
       "    <tr>\n",
       "      <th>Variation</th>\n",
       "      <th></th>\n",
       "      <th></th>\n",
       "      <th></th>\n",
       "      <th></th>\n",
       "    </tr>\n",
       "  </thead>\n",
       "  <tbody>\n",
       "    <tr>\n",
       "      <th>Control</th>\n",
       "      <td>30.61</td>\n",
       "      <td>31.53</td>\n",
       "      <td>80.21</td>\n",
       "      <td>94.17</td>\n",
       "    </tr>\n",
       "    <tr>\n",
       "      <th>Test</th>\n",
       "      <td>25.20</td>\n",
       "      <td>34.52</td>\n",
       "      <td>79.37</td>\n",
       "      <td>75.07</td>\n",
       "    </tr>\n",
       "  </tbody>\n",
       "</table>\n",
       "</div>"
      ],
      "text/plain": [
       "           step_0_to_1  step_1_to_2  step_2_to_3  step_3_to_4\n",
       "Variation                                                    \n",
       "Control          30.61        31.53        80.21        94.17\n",
       "Test             25.20        34.52        79.37        75.07"
      ]
     },
     "execution_count": 56,
     "metadata": {},
     "output_type": "execute_result"
    }
   ],
   "source": [
    "cols_pasos = ['step_0_to_1', 'step_1_to_2', 'step_2_to_3', 'step_3_to_4']\n",
    "\n",
    "for col in cols_pasos:\n",
    "    df_reducido_copia[col] = pd.to_numeric(df_reducido_copia[col], errors='coerce')  # convierte \"error\" en NaN\n",
    "\n",
    "# Luego, agrupar por 'Variation' y calcular la media de cada paso\n",
    "promedios = df_reducido_copia.groupby('Variation')[cols_pasos].mean().round(2)\n",
    "\n",
    "promedios"
   ]
  },
  {
   "cell_type": "markdown",
   "id": "959b8f39",
   "metadata": {},
   "source": [
    "Calculamos el tiempo entre pasos para rangos de edad"
   ]
  },
  {
   "cell_type": "code",
   "execution_count": 57,
   "id": "e74758de",
   "metadata": {},
   "outputs": [],
   "source": [
    "bins = [0, 25, 40, 55, 70, df_reducido_copia['clnt_age'].max()]\n",
    "labels = ['>25','25-40','40-55','55-70','<70']\n",
    "df_reducido_copia['clnt_age'] = pd.cut(df_reducido_copia['clnt_age'], bins=bins, labels=labels, include_lowest=True)"
   ]
  },
  {
   "cell_type": "code",
   "execution_count": 58,
   "id": "ab8bf3ed",
   "metadata": {},
   "outputs": [
    {
     "name": "stdout",
     "output_type": "stream",
     "text": [
      "          step_0_to_1  step_1_to_2  step_2_to_3  step_3_to_4\n",
      "clnt_age                                                    \n",
      ">25             20.18        22.97        79.68        61.34\n",
      "25-40           22.12        24.52        83.17         62.7\n",
      "40-55           26.37        32.91        95.62         83.0\n",
      "55-70           33.27        41.13        67.69       109.61\n",
      "<70             38.98        51.01        50.93       132.54\n"
     ]
    },
    {
     "name": "stderr",
     "output_type": "stream",
     "text": [
      "C:\\Users\\34722\\AppData\\Local\\Temp\\ipykernel_11388\\2639789583.py:9: FutureWarning: The default of observed=False is deprecated and will be changed to True in a future version of pandas. Pass observed=False to retain current behavior or observed=True to adopt the future default and silence this warning.\n",
      "  promedios_por_edad = df_reducido.groupby('clnt_age')[cols_pasos].mean().round(2)\n"
     ]
    }
   ],
   "source": [
    "# Lista de columnas de pasos\n",
    "cols_pasos = ['step_0_to_1', 'step_1_to_2', 'step_2_to_3', 'step_3_to_4']\n",
    "\n",
    "# Convertir a numérico (ignora errores y NaN)\n",
    "for col in cols_pasos:\n",
    "    df_reducido[col] = pd.to_numeric(df_reducido[col], errors='coerce')  # convierte \"error\" a NaN\n",
    "\n",
    "# Calcular el promedio por grupo de edad\n",
    "promedios_por_edad = df_reducido.groupby('clnt_age')[cols_pasos].mean().round(2)\n",
    "\n",
    "# Mostrar resultado\n",
    "print(promedios_por_edad)"
   ]
  },
  {
   "cell_type": "markdown",
   "id": "1cae7886",
   "metadata": {},
   "source": [
    "Calculamos el tiempo entre pasos para rangos de edad para Test y Control"
   ]
  },
  {
   "cell_type": "code",
   "execution_count": 59,
   "id": "c70fe7b0",
   "metadata": {},
   "outputs": [
    {
     "name": "stdout",
     "output_type": "stream",
     "text": [
      "                    step_0_to_1  step_1_to_2  step_2_to_3  step_3_to_4\n",
      "clnt_age Variation                                                    \n",
      ">25      Control           21.3        17.17        77.58        70.91\n",
      "         Test             19.34        27.91        81.69        53.79\n",
      "25-40    Control          23.06        20.68        83.91        73.93\n",
      "         Test             21.39        27.81        82.51        53.88\n",
      "40-55    Control          29.41         32.7        95.68        92.62\n",
      "         Test             24.06        33.09        95.57        74.89\n",
      "55-70    Control          37.76        41.84        68.09       119.77\n",
      "         Test             29.82        40.58        67.36       101.04\n",
      "<70      Control          45.97        52.24        51.25       140.51\n",
      "         Test              33.1        50.19        50.69       125.88\n"
     ]
    },
    {
     "name": "stderr",
     "output_type": "stream",
     "text": [
      "C:\\Users\\34722\\AppData\\Local\\Temp\\ipykernel_11388\\1553992245.py:8: FutureWarning: The default of observed=False is deprecated and will be changed to True in a future version of pandas. Pass observed=False to retain current behavior or observed=True to adopt the future default and silence this warning.\n",
      "  promedios_edad_variation = df_reducido.groupby(['clnt_age', 'Variation'])[cols_pasos].mean().round(2)\n"
     ]
    }
   ],
   "source": [
    "cols_pasos = ['step_0_to_1', 'step_1_to_2', 'step_2_to_3', 'step_3_to_4']\n",
    "\n",
    "# Asegurarse de que los valores sean numéricos (ignora \"error\")\n",
    "for col in cols_pasos:\n",
    "    df_reducido[col] = pd.to_numeric(df_reducido[col], errors='coerce')\n",
    "\n",
    "# Agrupar por edad y grupo (Test / Control)\n",
    "promedios_edad_variation = df_reducido.groupby(['clnt_age', 'Variation'])[cols_pasos].mean().round(2)\n",
    "\n",
    "# Mostrar resultado\n",
    "print(promedios_edad_variation)"
   ]
  },
  {
   "cell_type": "markdown",
   "id": "954997cf",
   "metadata": {},
   "source": [
    "Aqui intentamos averiguar porque los mayores de 55 años hacen el paso 2 al 3 mas rapido que los mas jovenes"
   ]
  },
  {
   "cell_type": "code",
   "execution_count": 60,
   "id": "0ea8c563",
   "metadata": {},
   "outputs": [
    {
     "name": "stderr",
     "output_type": "stream",
     "text": [
      "C:\\Users\\34722\\AppData\\Local\\Temp\\ipykernel_11388\\2108316980.py:2: FutureWarning: The default of observed=False is deprecated and will be changed to True in a future version of pandas. Pass observed=False to retain current behavior or observed=True to adopt the future default and silence this warning.\n",
      "  usuarios_en_2 = df_reducido[df_reducido['process_step'] == 2].groupby('clnt_age').size()\n",
      "C:\\Users\\34722\\AppData\\Local\\Temp\\ipykernel_11388\\2108316980.py:3: FutureWarning: The default of observed=False is deprecated and will be changed to True in a future version of pandas. Pass observed=False to retain current behavior or observed=True to adopt the future default and silence this warning.\n",
      "  usuarios_en_3 = df_reducido[df_reducido['process_step'] == 3].groupby('clnt_age').size()\n",
      "C:\\Users\\34722\\AppData\\Local\\Temp\\ipykernel_11388\\2108316980.py:11: FutureWarning: The default of observed=False is deprecated and will be changed to True in a future version of pandas. Pass observed=False to retain current behavior or observed=True to adopt the future default and silence this warning.\n",
      "  medianas = df_reducido.groupby(['clnt_age', 'Variation'])['step_2_to_3'].median().round(2)\n"
     ]
    },
    {
     "name": "stdout",
     "output_type": "stream",
     "text": [
      "Usuarios que llegaron al paso 2 por edad:\n",
      "clnt_age\n",
      ">25       4725\n",
      "25-40    15066\n",
      "40-55    16196\n",
      "55-70    17086\n",
      "<70       3534\n",
      "dtype: int64\n",
      "\n",
      "Usuarios que llegaron al paso 3 por edad:\n",
      "clnt_age\n",
      ">25       4051\n",
      "25-40    12760\n",
      "40-55    13587\n",
      "55-70    14778\n",
      "<70       3033\n",
      "dtype: int64\n",
      "\n",
      "Mediana de tiempo en step_2_to_3:\n",
      "clnt_age  Variation\n",
      ">25       Control      65.0\n",
      "          Test         67.0\n",
      "25-40     Control      70.0\n",
      "          Test         70.0\n",
      "40-55     Control      82.0\n",
      "          Test         81.0\n",
      "55-70     Control      49.0\n",
      "          Test         49.0\n",
      "<70       Control      42.0\n",
      "          Test         42.0\n",
      "Name: step_2_to_3, dtype: Float64\n"
     ]
    },
    {
     "data": {
      "image/png": "[encoded data removed]",
      "text/plain": [
       "<Figure size 1000x600 with 1 Axes>"
      ]
     },
     "metadata": {},
     "output_type": "display_data"
    }
   ],
   "source": [
    "# 1. Cantidad de usuarios que llegaron a los pasos 2 y 3 por grupo de edad\n",
    "usuarios_en_2 = df_reducido[df_reducido['process_step'] == 2].groupby('clnt_age').size()\n",
    "usuarios_en_3 = df_reducido[df_reducido['process_step'] == 3].groupby('clnt_age').size()\n",
    "\n",
    "print(\"Usuarios que llegaron al paso 2 por edad:\")\n",
    "print(usuarios_en_2)\n",
    "print(\"\\nUsuarios que llegaron al paso 3 por edad:\")\n",
    "print(usuarios_en_3)\n",
    "\n",
    "# 2. Mediana del tiempo en step_2_to_3 por edad y Variation\n",
    "medianas = df_reducido.groupby(['clnt_age', 'Variation'])['step_2_to_3'].median().round(2)\n",
    "print(\"\\nMediana de tiempo en step_2_to_3:\")\n",
    "print(medianas)\n",
    "\n",
    "# 3. Boxplot del tiempo en step_2_to_3 por edad y grupo\n",
    "plt.figure(figsize=(10, 6))\n",
    "sns.boxplot(\n",
    "    data=df_reducido,\n",
    "    x='clnt_age',\n",
    "    y='step_2_to_3',\n",
    "    hue='Variation',\n",
    "    showfliers=False\n",
    ")\n",
    "plt.title('Distribución del tiempo en step_2_to_3 por grupo de edad')\n",
    "plt.xlabel('Grupo de edad')\n",
    "plt.ylabel('Tiempo en segundos')\n",
    "plt.legend(title='Grupo')\n",
    "plt.tight_layout()\n",
    "plt.show()"
   ]
  },
  {
   "cell_type": "code",
   "execution_count": 61,
   "id": "5a5b9945",
   "metadata": {},
   "outputs": [],
   "source": [
    "df_reducido_copia.to_csv(\"reducido_edad.csv\", index=False)"
   ]
  },
  {
   "cell_type": "markdown",
   "id": "34a226ab",
   "metadata": {},
   "source": [
    "HIPOTESIS DE TIEMPO ENTRE PASOS PARA TEST Y CONTROL \n",
    "\n",
    "H0 AVG TIME test < AVG TIME control\n",
    "\n",
    "H1 AVG TIME test > AVG TIME control\n",
    "\n",
    "alpha = 0,05"
   ]
  },
  {
   "cell_type": "code",
   "execution_count": 62,
   "id": "8217c3df",
   "metadata": {},
   "outputs": [],
   "source": [
    "step_cols = ['step_0_to_1', 'step_1_to_2', 'step_2_to_3', 'step_3_to_4']"
   ]
  },
  {
   "cell_type": "code",
   "execution_count": 63,
   "id": "1cb82723",
   "metadata": {},
   "outputs": [
    {
     "data": {
      "text/html": [
       "<div>\n",
       "<style scoped>\n",
       "    .dataframe tbody tr th:only-of-type {\n",
       "        vertical-align: middle;\n",
       "    }\n",
       "\n",
       "    .dataframe tbody tr th {\n",
       "        vertical-align: top;\n",
       "    }\n",
       "\n",
       "    .dataframe thead th {\n",
       "        text-align: right;\n",
       "    }\n",
       "</style>\n",
       "<table border=\"1\" class=\"dataframe\">\n",
       "  <thead>\n",
       "    <tr style=\"text-align: right;\">\n",
       "      <th></th>\n",
       "      <th>t_stat</th>\n",
       "      <th>p_value</th>\n",
       "    </tr>\n",
       "  </thead>\n",
       "  <tbody>\n",
       "    <tr>\n",
       "      <th>step_0_to_1</th>\n",
       "      <td>-15.4023</td>\n",
       "      <td>0.0000</td>\n",
       "    </tr>\n",
       "    <tr>\n",
       "      <th>step_1_to_2</th>\n",
       "      <td>9.0347</td>\n",
       "      <td>1.0000</td>\n",
       "    </tr>\n",
       "    <tr>\n",
       "      <th>step_2_to_3</th>\n",
       "      <td>-1.4461</td>\n",
       "      <td>0.0741</td>\n",
       "    </tr>\n",
       "    <tr>\n",
       "      <th>step_3_to_4</th>\n",
       "      <td>-23.7958</td>\n",
       "      <td>0.0000</td>\n",
       "    </tr>\n",
       "  </tbody>\n",
       "</table>\n",
       "</div>"
      ],
      "text/plain": [
       "              t_stat  p_value\n",
       "step_0_to_1 -15.4023   0.0000\n",
       "step_1_to_2   9.0347   1.0000\n",
       "step_2_to_3  -1.4461   0.0741\n",
       "step_3_to_4 -23.7958   0.0000"
      ]
     },
     "execution_count": 63,
     "metadata": {},
     "output_type": "execute_result"
    }
   ],
   "source": [
    "for col in step_cols:\n",
    "    df_reducido_copia[col] = pd.to_numeric(df_reducido_copia[col], errors='coerce')\n",
    "\n",
    "ttest_results = {}\n",
    "for col in step_cols:\n",
    "    test_vals = df_reducido_copia[df_reducido_copia['Variation'] == 'Test'][col].dropna()\n",
    "    control_vals = df_reducido_copia[df_reducido_copia['Variation'] == 'Control'][col].dropna()\n",
    "    if len(test_vals) > 1 and len(control_vals) > 1:\n",
    "        t_stat, p_val = ttest_ind(test_vals, control_vals, equal_var=False, alternative='less')\n",
    "        ttest_results[col] = {'t_stat': t_stat, 'p_value': p_val}\n",
    "\n",
    "# Convertir a DataFrame para mostrar\n",
    "df_ttest = pd.DataFrame(ttest_results).T.round(4)\n",
    "df_ttest"
   ]
  },
  {
   "cell_type": "markdown",
   "id": "faf0aa30",
   "metadata": {},
   "source": [
    "El pvalue de \n",
    "\n",
    "step_0_to_1 es 0 -  Rechazamos H₀ → el tiempo es diferente entre Test y Control.\n",
    "\n",
    "step_1_to_2\tes 0 -  Rechazamos H₀ → el tiempo es diferente entre Test y Control(ES LA UNICA DONDE EL CONTROL ES MAS RAPIDO)\n",
    "\n",
    "step_2_to_3\tes 0.1481  - No rechazamos H₀ ya que el pvalue>alpha\n",
    "\n",
    "step_3_to_4\tes 0 -  Rechazamos H₀ → el tiempo es diferente entre Test y Control."
   ]
  },
  {
   "cell_type": "markdown",
   "id": "8f2b4593",
   "metadata": {},
   "source": []
  },
  {
   "cell_type": "markdown",
   "id": "1463d172",
   "metadata": {},
   "source": [
    "HIPOTEISI QUE TARDAN MAS SEGUN VA AVANZANDO LA EDAD\n",
    "\n",
    "H0 CUANTO MAS MAYOR MAS TARDA ENTRE PASOS\n",
    "\n",
    "H1 CUANTO MAS JOVEN MENOS TARDA ENYRE PASOS"
   ]
  },
  {
   "cell_type": "code",
   "execution_count": 64,
   "id": "68b497de",
   "metadata": {},
   "outputs": [
    {
     "name": "stdout",
     "output_type": "stream",
     "text": [
      "          Paso    Grupo  Correlación (Spearman)   p_value\n",
      "0  step_0_to_1     Test                     1.0  0.000000\n",
      "1  step_0_to_1  Control                     1.0  0.000000\n",
      "2  step_1_to_2     Test                     0.9  0.037386\n",
      "3  step_1_to_2  Control                     1.0  0.000000\n",
      "4  step_2_to_3     Test                    -0.6  0.284757\n",
      "5  step_2_to_3  Control                    -0.6  0.284757\n",
      "6  step_3_to_4     Test                     1.0  0.000000\n",
      "7  step_3_to_4  Control                     1.0  0.000000\n"
     ]
    },
    {
     "name": "stderr",
     "output_type": "stream",
     "text": [
      "C:\\Users\\34722\\AppData\\Local\\Temp\\ipykernel_11388\\3555421998.py:10: FutureWarning: The default of observed=False is deprecated and will be changed to True in a future version of pandas. Pass observed=False to retain current behavior or observed=True to adopt the future default and silence this warning.\n",
      "  df_promedios = df_reducido.groupby(['clnt_age', 'Variation'])[cols_pasos].mean().reset_index()\n"
     ]
    }
   ],
   "source": [
    "# Asegurarse de que las columnas de pasos sean numéricas (ignora 'error')\n",
    "cols_pasos = ['step_0_to_1', 'step_1_to_2', 'step_2_to_3', 'step_3_to_4']\n",
    "for col in cols_pasos:\n",
    "    df_reducido[col] = pd.to_numeric(df_reducido[col], errors='coerce')\n",
    "\n",
    "# Mapear los rangos de edad a un valor numérico para correlación\n",
    "edad_orden = {'>25': 1, '25-40': 2, '40-55': 3, '55-70': 4, '<70': 5}\n",
    "\n",
    "# Calcular promedio de tiempo entre pasos por grupo de edad y Variation\n",
    "df_promedios = df_reducido.groupby(['clnt_age', 'Variation'])[cols_pasos].mean().reset_index()\n",
    "\n",
    "# Agregar columna numérica de edad\n",
    "df_promedios['edad_num'] = df_promedios['clnt_age'].map(edad_orden)\n",
    "\n",
    "# Calcular correlación Spearman para cada paso y grupo (Test / Control)\n",
    "resultados_correlacion = []\n",
    "for paso in cols_pasos:\n",
    "    for variation in ['Test', 'Control']:\n",
    "        subset = df_promedios[df_promedios['Variation'] == variation]\n",
    "        corr, p_val = spearmanr(subset['edad_num'], subset[paso])\n",
    "        resultados_correlacion.append({\n",
    "            'Paso': paso,\n",
    "            'Grupo': variation,\n",
    "            'Correlación (Spearman)': round(corr, 4),\n",
    "            'p_value': round(p_val, 6)\n",
    "        })\n",
    "\n",
    "# Mostrar resultados\n",
    "df_resultados_edad = pd.DataFrame(resultados_correlacion)\n",
    "print(df_resultados_edad)"
   ]
  },
  {
   "cell_type": "markdown",
   "id": "2ed77756",
   "metadata": {},
   "source": [
    "Rechazamos la H0 en todas menos en el paso 2 al 3 que pvalue es mayor que 0,05 en test y en control asi que la H0 es correcta\n"
   ]
  },
  {
   "cell_type": "code",
   "execution_count": 65,
   "id": "3103aa4c",
   "metadata": {},
   "outputs": [
    {
     "data": {
      "image/png": "[encoded data removed]",
      "text/plain": [
       "<Figure size 600x600 with 1 Axes>"
      ]
     },
     "metadata": {},
     "output_type": "display_data"
    }
   ],
   "source": [
    "import matplotlib.pyplot as plt\n",
    "\n",
    "# Datos\n",
    "labels = ['Control', 'Test']\n",
    "clients = [23507, 26933]\n",
    "colors = ['#4e79a7', '#f1c40f']\n",
    "\n",
    "# Crear el gráfico\n",
    "fig, ax = plt.subplots(figsize=(6, 6))\n",
    "ax.pie(\n",
    "    clients,\n",
    "    labels=labels,\n",
    "    autopct='%1.1f%%',\n",
    "    startangle=90,\n",
    "    colors=colors,\n",
    "    wedgeprops={'edgecolor': 'white'}\n",
    ")\n",
    "ax.set_title('Cantidad de Clientes por Grupo (Control vs Test)', fontsize=14)\n",
    "plt.tight_layout()\n",
    "plt.show()\n"
   ]
  }
 ],
 "metadata": {
  "kernelspec": {
   "display_name": "base",
   "language": "python",
   "name": "python3"
  },
  "language_info": {
   "codemirror_mode": {
    "name": "ipython",
    "version": 3
   },
   "file_extension": ".py",
   "mimetype": "text/x-python",
   "name": "python",
   "nbconvert_exporter": "python",
   "pygments_lexer": "ipython3",
   "version": "3.12.7"
  }
 },
 "nbformat": 4,
 "nbformat_minor": 5
}
